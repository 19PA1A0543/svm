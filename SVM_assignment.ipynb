{
  "nbformat": 4,
  "nbformat_minor": 0,
  "metadata": {
    "colab": {
      "name": "SVM assignment",
      "provenance": [],
      "collapsed_sections": [],
      "include_colab_link": true
    },
    "kernelspec": {
      "name": "python3",
      "display_name": "Python 3"
    }
  },
  "cells": [
    {
      "cell_type": "markdown",
      "metadata": {
        "id": "view-in-github",
        "colab_type": "text"
      },
      "source": [
        "<a href=\"https://colab.research.google.com/github/19PA1A0543/svm/blob/master/SVM_assignment.ipynb\" target=\"_parent\"><img src=\"https://colab.research.google.com/assets/colab-badge.svg\" alt=\"Open In Colab\"/></a>"
      ]
    },
    {
      "cell_type": "code",
      "metadata": {
        "id": "1RhKPRPW_sr3",
        "colab_type": "code",
        "colab": {}
      },
      "source": [
        "#importing our packages\n",
        "import numpy as np\n",
        "import pandas as pd\n",
        "import matplotlib.pyplot as plt\n",
        "import seaborn as sb\n",
        "from sklearn.svm import SVC as svcm\n",
        "from sklearn.model_selection import train_test_split as ttsd\n",
        "from sklearn.metrics import mean_squared_error\n",
        "from sklearn import metrics"
      ],
      "execution_count": 0,
      "outputs": []
    },
    {
      "cell_type": "code",
      "metadata": {
        "id": "_FOqqoFf_vfY",
        "colab_type": "code",
        "outputId": "94b0bb7b-a7cf-4991-fc66-50dae6ce355d",
        "colab": {
          "base_uri": "https://localhost:8080/",
          "height": 402
        }
      },
      "source": [
        "data = pd.read_csv(\"iris2.txt\")                    \n",
        "data"
      ],
      "execution_count": 0,
      "outputs": [
        {
          "output_type": "execute_result",
          "data": {
            "text/html": [
              "<div>\n",
              "<style scoped>\n",
              "    .dataframe tbody tr th:only-of-type {\n",
              "        vertical-align: middle;\n",
              "    }\n",
              "\n",
              "    .dataframe tbody tr th {\n",
              "        vertical-align: top;\n",
              "    }\n",
              "\n",
              "    .dataframe thead th {\n",
              "        text-align: right;\n",
              "    }\n",
              "</style>\n",
              "<table border=\"1\" class=\"dataframe\">\n",
              "  <thead>\n",
              "    <tr style=\"text-align: right;\">\n",
              "      <th></th>\n",
              "      <th>sepallength</th>\n",
              "      <th>sepalwidth</th>\n",
              "      <th>petallength</th>\n",
              "      <th>petalwidth</th>\n",
              "      <th>spec</th>\n",
              "    </tr>\n",
              "  </thead>\n",
              "  <tbody>\n",
              "    <tr>\n",
              "      <th>0</th>\n",
              "      <td>5.1</td>\n",
              "      <td>3.5</td>\n",
              "      <td>1.4</td>\n",
              "      <td>0.2</td>\n",
              "      <td>Iris-setosa</td>\n",
              "    </tr>\n",
              "    <tr>\n",
              "      <th>1</th>\n",
              "      <td>4.9</td>\n",
              "      <td>3.0</td>\n",
              "      <td>1.4</td>\n",
              "      <td>0.2</td>\n",
              "      <td>Iris-setosa</td>\n",
              "    </tr>\n",
              "    <tr>\n",
              "      <th>2</th>\n",
              "      <td>4.7</td>\n",
              "      <td>3.2</td>\n",
              "      <td>1.3</td>\n",
              "      <td>0.2</td>\n",
              "      <td>Iris-setosa</td>\n",
              "    </tr>\n",
              "    <tr>\n",
              "      <th>3</th>\n",
              "      <td>4.6</td>\n",
              "      <td>3.1</td>\n",
              "      <td>1.5</td>\n",
              "      <td>0.2</td>\n",
              "      <td>Iris-setosa</td>\n",
              "    </tr>\n",
              "    <tr>\n",
              "      <th>4</th>\n",
              "      <td>5.0</td>\n",
              "      <td>3.6</td>\n",
              "      <td>1.4</td>\n",
              "      <td>0.2</td>\n",
              "      <td>Iris-setosa</td>\n",
              "    </tr>\n",
              "    <tr>\n",
              "      <th>...</th>\n",
              "      <td>...</td>\n",
              "      <td>...</td>\n",
              "      <td>...</td>\n",
              "      <td>...</td>\n",
              "      <td>...</td>\n",
              "    </tr>\n",
              "    <tr>\n",
              "      <th>113</th>\n",
              "      <td>5.7</td>\n",
              "      <td>2.5</td>\n",
              "      <td>5.0</td>\n",
              "      <td>2.0</td>\n",
              "      <td>Iris-virginica</td>\n",
              "    </tr>\n",
              "    <tr>\n",
              "      <th>114</th>\n",
              "      <td>5.8</td>\n",
              "      <td>2.8</td>\n",
              "      <td>5.1</td>\n",
              "      <td>2.4</td>\n",
              "      <td>Iris-virginica</td>\n",
              "    </tr>\n",
              "    <tr>\n",
              "      <th>115</th>\n",
              "      <td>6.4</td>\n",
              "      <td>3.2</td>\n",
              "      <td>5.3</td>\n",
              "      <td>2.3</td>\n",
              "      <td>Iris-virginica</td>\n",
              "    </tr>\n",
              "    <tr>\n",
              "      <th>116</th>\n",
              "      <td>6.5</td>\n",
              "      <td>3.0</td>\n",
              "      <td>5.5</td>\n",
              "      <td>1.8</td>\n",
              "      <td>Iris-virginica</td>\n",
              "    </tr>\n",
              "    <tr>\n",
              "      <th>117</th>\n",
              "      <td>7.7</td>\n",
              "      <td>3.8</td>\n",
              "      <td>6.7</td>\n",
              "      <td>2.2</td>\n",
              "      <td>Iris-virginica</td>\n",
              "    </tr>\n",
              "  </tbody>\n",
              "</table>\n",
              "<p>118 rows × 5 columns</p>\n",
              "</div>"
            ],
            "text/plain": [
              "     sepallength  sepalwidth  petallength  petalwidth            spec\n",
              "0            5.1         3.5          1.4         0.2     Iris-setosa\n",
              "1            4.9         3.0          1.4         0.2     Iris-setosa\n",
              "2            4.7         3.2          1.3         0.2     Iris-setosa\n",
              "3            4.6         3.1          1.5         0.2     Iris-setosa\n",
              "4            5.0         3.6          1.4         0.2     Iris-setosa\n",
              "..           ...         ...          ...         ...             ...\n",
              "113          5.7         2.5          5.0         2.0  Iris-virginica\n",
              "114          5.8         2.8          5.1         2.4  Iris-virginica\n",
              "115          6.4         3.2          5.3         2.3  Iris-virginica\n",
              "116          6.5         3.0          5.5         1.8  Iris-virginica\n",
              "117          7.7         3.8          6.7         2.2  Iris-virginica\n",
              "\n",
              "[118 rows x 5 columns]"
            ]
          },
          "metadata": {
            "tags": []
          },
          "execution_count": 116
        }
      ]
    },
    {
      "cell_type": "code",
      "metadata": {
        "id": "WtWojxDKBiXN",
        "colab_type": "code",
        "outputId": "8066c93c-ba8a-4f75-cc01-6cdfc2c1a2d1",
        "colab": {
          "base_uri": "https://localhost:8080/",
          "height": 118
        }
      },
      "source": [
        "data.isna().any()               #checking for any na's in the data\n",
        "                                #luckyly there are no na's"
      ],
      "execution_count": 0,
      "outputs": [
        {
          "output_type": "execute_result",
          "data": {
            "text/plain": [
              "sepallength    False\n",
              "sepalwidth     False\n",
              "petallength    False\n",
              "petalwidth     False\n",
              "spec           False\n",
              "dtype: bool"
            ]
          },
          "metadata": {
            "tags": []
          },
          "execution_count": 117
        }
      ]
    },
    {
      "cell_type": "code",
      "metadata": {
        "id": "vkLR_eDr1i5b",
        "colab_type": "code",
        "colab": {}
      },
      "source": [
        "x = data[[\"sepallength\",\"sepalwidth\",\"petallength\",\"petalwidth\"]]     #Giving the first four columns as features \n",
        "y = data[[\"spec\"]]                                                    #Giving the last as label"
      ],
      "execution_count": 0,
      "outputs": []
    },
    {
      "cell_type": "code",
      "metadata": {
        "id": "yVgMTT1M_6bg",
        "colab_type": "code",
        "outputId": "eb1fb79e-468a-433a-d9a1-89ee7f4fca0c",
        "colab": {
          "base_uri": "https://localhost:8080/",
          "height": 1000
        }
      },
      "source": [
        "x_train, x_test, y_train, y_test = ttsd(x, y, test_size = 0.2, random_state = 42)    #random_state = 42 as per the question and test_size = 0.2\n",
        "x_train, x_test, y_train, y_test"
      ],
      "execution_count": 0,
      "outputs": [
        {
          "output_type": "execute_result",
          "data": {
            "text/plain": [
              "(     sepallength  sepalwidth  petallength  petalwidth\n",
              " 44           5.1         3.8          1.9         0.4\n",
              " 12           4.8         3.0          1.4         0.1\n",
              " 15           5.7         4.4          1.5         0.4\n",
              " 70           5.9         3.2          4.8         1.8\n",
              " 107          7.3         2.9          6.3         1.8\n",
              " ..           ...         ...          ...         ...\n",
              " 106          4.9         2.5          4.5         1.7\n",
              " 14           5.8         4.0          1.2         0.2\n",
              " 92           5.8         2.6          4.0         1.2\n",
              " 51           6.4         3.2          4.5         1.5\n",
              " 102          7.1         3.0          5.9         2.1\n",
              " \n",
              " [94 rows x 4 columns],      sepallength  sepalwidth  petallength  petalwidth\n",
              " 56           6.3         3.3          4.7         1.6\n",
              " 89           5.5         2.5          4.0         1.3\n",
              " 4            5.0         3.6          1.4         0.2\n",
              " 45           4.8         3.0          1.4         0.3\n",
              " 26           5.0         3.4          1.6         0.4\n",
              " 116          6.5         3.0          5.5         1.8\n",
              " 69           5.6         2.5          3.9         1.1\n",
              " 10           5.4         3.7          1.5         0.2\n",
              " 90           5.5         2.6          4.4         1.2\n",
              " 73           6.1         2.8          4.7         1.2\n",
              " 18           5.7         3.8          1.7         0.3\n",
              " 111          6.4         2.7          5.3         1.9\n",
              " 11           4.8         3.4          1.6         0.2\n",
              " 96           5.7         2.9          4.2         1.3\n",
              " 42           4.4         3.2          1.3         0.2\n",
              " 31           5.4         3.4          1.5         0.4\n",
              " 88           5.6         3.0          4.1         1.3\n",
              " 0            5.1         3.5          1.4         0.2\n",
              " 97           6.2         2.9          4.3         1.3\n",
              " 109          7.2         3.6          6.1         2.5\n",
              " 64           5.6         2.9          3.6         1.3\n",
              " 40           5.0         3.5          1.3         0.3\n",
              " 95           5.7         3.0          4.2         1.2\n",
              " 53           5.5         2.3          4.0         1.3,                 spec\n",
              " 44       Iris-setosa\n",
              " 12       Iris-setosa\n",
              " 15       Iris-setosa\n",
              " 70   Iris-versicolor\n",
              " 107   Iris-virginica\n",
              " ..               ...\n",
              " 106   Iris-virginica\n",
              " 14       Iris-setosa\n",
              " 92   Iris-versicolor\n",
              " 51   Iris-versicolor\n",
              " 102   Iris-virginica\n",
              " \n",
              " [94 rows x 1 columns],                 spec\n",
              " 56   Iris-versicolor\n",
              " 89   Iris-versicolor\n",
              " 4        Iris-setosa\n",
              " 45       Iris-setosa\n",
              " 26       Iris-setosa\n",
              " 116   Iris-virginica\n",
              " 69   Iris-versicolor\n",
              " 10       Iris-setosa\n",
              " 90   Iris-versicolor\n",
              " 73   Iris-versicolor\n",
              " 18       Iris-setosa\n",
              " 111   Iris-virginica\n",
              " 11       Iris-setosa\n",
              " 96   Iris-versicolor\n",
              " 42       Iris-setosa\n",
              " 31       Iris-setosa\n",
              " 88   Iris-versicolor\n",
              " 0        Iris-setosa\n",
              " 97   Iris-versicolor\n",
              " 109   Iris-virginica\n",
              " 64   Iris-versicolor\n",
              " 40       Iris-setosa\n",
              " 95   Iris-versicolor\n",
              " 53   Iris-versicolor)"
            ]
          },
          "metadata": {
            "tags": []
          },
          "execution_count": 119
        }
      ]
    },
    {
      "cell_type": "code",
      "metadata": {
        "id": "6U8WRKzP_9Zr",
        "colab_type": "code",
        "outputId": "7c93b905-34db-4ced-cd9f-64c4b9b65313",
        "colab": {
          "base_uri": "https://localhost:8080/",
          "height": 138
        }
      },
      "source": [
        "svm = svcm()    \n",
        "svm.fit(x_train, y_train)"
      ],
      "execution_count": 0,
      "outputs": [
        {
          "output_type": "stream",
          "text": [
            "/usr/local/lib/python3.6/dist-packages/sklearn/utils/validation.py:760: DataConversionWarning: A column-vector y was passed when a 1d array was expected. Please change the shape of y to (n_samples, ), for example using ravel().\n",
            "  y = column_or_1d(y, warn=True)\n"
          ],
          "name": "stderr"
        },
        {
          "output_type": "execute_result",
          "data": {
            "text/plain": [
              "SVC(C=1.0, break_ties=False, cache_size=200, class_weight=None, coef0=0.0,\n",
              "    decision_function_shape='ovr', degree=3, gamma='scale', kernel='rbf',\n",
              "    max_iter=-1, probability=False, random_state=None, shrinking=True,\n",
              "    tol=0.001, verbose=False)"
            ]
          },
          "metadata": {
            "tags": []
          },
          "execution_count": 120
        }
      ]
    },
    {
      "cell_type": "code",
      "metadata": {
        "id": "JvNvHTrBAEhy",
        "colab_type": "code",
        "outputId": "8848c78a-1cfe-489e-89bf-f4481688c5cb",
        "colab": {
          "base_uri": "https://localhost:8080/",
          "height": 134
        }
      },
      "source": [
        "y_prediction = svm.predict(x_test)                     #predicting the x_test data\n",
        "y_prediction"
      ],
      "execution_count": 0,
      "outputs": [
        {
          "output_type": "execute_result",
          "data": {
            "text/plain": [
              "array(['Iris-versicolor', 'Iris-versicolor', 'Iris-setosa', 'Iris-setosa',\n",
              "       'Iris-setosa', 'Iris-virginica', 'Iris-versicolor', 'Iris-setosa',\n",
              "       'Iris-versicolor', 'Iris-versicolor', 'Iris-setosa',\n",
              "       'Iris-versicolor', 'Iris-setosa', 'Iris-versicolor', 'Iris-setosa',\n",
              "       'Iris-setosa', 'Iris-versicolor', 'Iris-setosa', 'Iris-versicolor',\n",
              "       'Iris-virginica', 'Iris-versicolor', 'Iris-setosa',\n",
              "       'Iris-versicolor', 'Iris-versicolor'], dtype=object)"
            ]
          },
          "metadata": {
            "tags": []
          },
          "execution_count": 121
        }
      ]
    },
    {
      "cell_type": "code",
      "metadata": {
        "id": "dvI_5FEJJhTC",
        "colab_type": "code",
        "outputId": "39e246ac-ef03-4fbe-9c25-1d7d1dd2fd5c",
        "colab": {
          "base_uri": "https://localhost:8080/",
          "height": 67
        }
      },
      "source": [
        "metrics.confusion_matrix(y_test,y_prediction)                   #Getting the confusion matrix"
      ],
      "execution_count": 0,
      "outputs": [
        {
          "output_type": "execute_result",
          "data": {
            "text/plain": [
              "array([[10,  0,  0],\n",
              "       [ 0, 11,  0],\n",
              "       [ 0,  1,  2]])"
            ]
          },
          "metadata": {
            "tags": []
          },
          "execution_count": 122
        }
      ]
    },
    {
      "cell_type": "markdown",
      "metadata": {
        "id": "yuXjEdKJ-Lfm",
        "colab_type": "text"
      },
      "source": [
        "Number of correct predictions to total number of predictions is accuracy"
      ]
    },
    {
      "cell_type": "code",
      "metadata": {
        "id": "b2i8t-WW2f6t",
        "colab_type": "code",
        "outputId": "699224c0-297f-4796-e2c0-e3a5800c4e47",
        "colab": {
          "base_uri": "https://localhost:8080/",
          "height": 34
        }
      },
      "source": [
        "metrics.accuracy_score(y_test,y_prediction)     #Finding out accuracy"
      ],
      "execution_count": 0,
      "outputs": [
        {
          "output_type": "execute_result",
          "data": {
            "text/plain": [
              "0.9583333333333334"
            ]
          },
          "metadata": {
            "tags": []
          },
          "execution_count": 123
        }
      ]
    },
    {
      "cell_type": "markdown",
      "metadata": {
        "id": "6VDv5tWB-Fcz",
        "colab_type": "text"
      },
      "source": [
        "precision is the fraction of relevant instances among the retrieved instances\n",
        "\n"
      ]
    },
    {
      "cell_type": "code",
      "metadata": {
        "id": "uvRIB7gJ49oZ",
        "colab_type": "code",
        "outputId": "b80e41e3-562b-4d43-b854-675b617fac04",
        "colab": {
          "base_uri": "https://localhost:8080/",
          "height": 34
        }
      },
      "source": [
        "metrics.precision_score(y_test,y_prediction, average = 'weighted')      #finding the precission "
      ],
      "execution_count": 0,
      "outputs": [
        {
          "output_type": "execute_result",
          "data": {
            "text/plain": [
              "0.9618055555555555"
            ]
          },
          "metadata": {
            "tags": []
          },
          "execution_count": 101
        }
      ]
    }
  ]
}